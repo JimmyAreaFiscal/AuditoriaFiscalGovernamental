{
 "cells": [
  {
   "cell_type": "markdown",
   "metadata": {},
   "source": [
    "---\n",
    "# Notebook para automatizar fiscalização\n",
    "---\n",
    "\n",
    "Esse notebook tem por propósito automatizar a fiscalização por monitoramento."
   ]
  },
  {
   "cell_type": "markdown",
   "metadata": {},
   "source": [
    "## 1. Configuração Inicial"
   ]
  },
  {
   "cell_type": "markdown",
   "metadata": {},
   "source": [
    "### 1.1. Configurações Iniciais"
   ]
  },
  {
   "cell_type": "markdown",
   "metadata": {},
   "source": [
    "#### 1.1.1. Importação de bibliotecas"
   ]
  },
  {
   "cell_type": "code",
   "execution_count": 2,
   "metadata": {},
   "outputs": [],
   "source": [
    "import pandas as pd \n",
    "from datetime import datetime as dt \n",
    "from dateutil.relativedelta import relativedelta\n",
    "from connection import DadosEscriturais, DadosOperacoes, DadosCadastrais, DadosParametrizados, DadosDebitos\n",
    "from external_connection import DadosCadastraisRFB, DadosCadastraisJUCERR\n",
    "from EFD.EFDLocal import EFDLocal\n",
    "import os \n",
    "import warnings\n",
    "\n",
    "relatorio = []\n"
   ]
  },
  {
   "cell_type": "markdown",
   "metadata": {},
   "source": [
    "#### 1.1.2. Configurações básicas"
   ]
  },
  {
   "cell_type": "code",
   "execution_count": 3,
   "metadata": {},
   "outputs": [],
   "source": [
    "data_inicio=dt(2020, 1, 1)\n",
    "data_fim=dt(2020, 12, 31)\n",
    "cnpj = '18283407000210'\n",
    "cgf = '24.027688-2'\n",
    "\n",
    "valor_minimo_significancia = 100000\n",
    "\n",
    "endereco_pasta_audit = r'C:\\Users\\Jimmy_Usuário\\Documents\\Auditor_Fiscal\\Planos de Trabalho - DIFIS\\022024\\Fiscalizações\\OS 22762024 - 34797837000206\\Dados'\n",
    "\n",
    "endereco_efd = r'C:\\Users\\Jimmy_Usuário\\Documents\\Auditor_Fiscal\\Planos de Trabalho - DIFIS\\022024\\Fiscalizações\\OS 22762024 - 34797837000206\\Dados\\EFDs'\n",
    "\n"
   ]
  },
  {
   "cell_type": "markdown",
   "metadata": {},
   "source": [
    "##### 1.1.2.1. Tratamentos adicionais"
   ]
  },
  {
   "cell_type": "code",
   "execution_count": 4,
   "metadata": {},
   "outputs": [],
   "source": [
    "num_months = (data_fim.year - data_inicio.year) * 12 + data_fim.month - data_inicio.month + 1   # Calcular quantidade de meses de fiscalização\n",
    "meses_audit = [(data_inicio + relativedelta(months=x)).strftime('%m/%Y') for x in range(num_months)] # Transformar quantidade de meses de fiscalização em formato MM/YYYY\n",
    "\n",
    "warnings.filterwarnings('ignore')   # Ignorar alguns avisos de deprecação de funções do pandas"
   ]
  },
  {
   "cell_type": "markdown",
   "metadata": {},
   "source": [
    "### 1.2. Coleta de EFD e GIM"
   ]
  },
  {
   "cell_type": "code",
   "execution_count": 5,
   "metadata": {},
   "outputs": [
    {
     "name": "stdout",
     "output_type": "stream",
     "text": [
      "Banco de dados já existe!\n"
     ]
    }
   ],
   "source": [
    "# Coleta de GIM\n",
    "gim = DadosEscriturais.GIM(cgf=cgf, data_inicio=data_inicio, data_fim=data_fim)\n",
    "obrigatoriedade = DadosEscriturais.BuscarObrigatoriedade(cgf=cgf, data_inicio=data_inicio, data_fim=data_fim)\n",
    "\n",
    "# Salvar GIM importada (para documentação de auditoria)\n",
    "gim.save(path=endereco_pasta_audit+r'\\escrituracao.xlsx')\n"
   ]
  },
  {
   "cell_type": "code",
   "execution_count": null,
   "metadata": {},
   "outputs": [],
   "source": [
    "# Coleta de EFD\n",
    "dados_efd = EFDLocal(cnpj=cnpj, mes_ref=meses_audit, local=endereco_efd)"
   ]
  },
  {
   "cell_type": "markdown",
   "metadata": {},
   "source": [
    "### 1.3. Coleta de documentos adicionais"
   ]
  },
  {
   "cell_type": "code",
   "execution_count": 6,
   "metadata": {},
   "outputs": [],
   "source": [
    "parametrizacoes = DadosParametrizados"
   ]
  },
  {
   "cell_type": "markdown",
   "metadata": {},
   "source": [
    "### 1.4. Coleta da Inscrição no CNPJ"
   ]
  },
  {
   "cell_type": "code",
   "execution_count": 7,
   "metadata": {},
   "outputs": [],
   "source": [
    "dados_cnpj = DadosCadastraisRFB(cnpj=cnpj)\n",
    "dados_jucerr = DadosCadastraisJUCERR(cnpj=cnpj)\n"
   ]
  },
  {
   "cell_type": "markdown",
   "metadata": {},
   "source": [
    "### 1.5. Coleta da inscrição no CGF"
   ]
  },
  {
   "cell_type": "code",
   "execution_count": 8,
   "metadata": {},
   "outputs": [],
   "source": [
    "cadastro = DadosCadastrais.CadastroAtualEstadual(cnpj)\n",
    "cadastro_historico = DadosCadastrais.HistoricoCadastroEstadual(cnpj)\n",
    "\n",
    "cadastro.save(path=endereco_pasta_audit+r'\\cadastro_atual_estadual.xlsx')\n",
    "cadastro_historico.save(path=endereco_pasta_audit+r'\\historico_cadastro_estadual.xlsx')"
   ]
  },
  {
   "cell_type": "markdown",
   "metadata": {},
   "source": [
    "### 1.6. Coleta de Dsot e Pagamentos Antecipados"
   ]
  },
  {
   "cell_type": "code",
   "execution_count": 9,
   "metadata": {},
   "outputs": [],
   "source": [
    "dsot = DadosDebitos.DSOT(cgf, data_inicio, data_fim)\n",
    "pag_antecipado = DadosDebitos.DebitosAntecipacaoParcialPagos(cgf, data_inicio, data_fim)\n",
    "\n",
    "dsot.save(path=endereco_pasta_audit+r'\\dsot_periodo.xlsx')\n",
    "pag_antecipado.save(path=endereco_pasta_audit+r'\\pag_antecipado_periodo.xlsx')"
   ]
  },
  {
   "cell_type": "markdown",
   "metadata": {},
   "source": [
    "### 1.7. Coleta de Documentos Fiscais Não Escriturais"
   ]
  },
  {
   "cell_type": "code",
   "execution_count": 10,
   "metadata": {},
   "outputs": [],
   "source": [
    "\n",
    "NFeEntrada = DadosOperacoes.NotasFiscaisEntrada(cnpj=cnpj, data_inicio=data_inicio, data_fim=data_fim)\n",
    "NFeSaida = DadosOperacoes.NotasFiscaisSaida(cnpj=cnpj, data_inicio=data_inicio, data_fim=data_fim)\n",
    "NFCe = DadosOperacoes.NotasFiscaisConsumidor(cnpj=cnpj, data_inicio=data_inicio, data_fim=data_fim)\n",
    "\n",
    "notas = pd.ExcelWriter(path=endereco_pasta_audit+'\\documentos_fiscais.xlsx')\n",
    "NFeEntrada.to_excel(notas, sheet_name='NotasEntrada', index=False)\n",
    "NFeSaida.to_excel(notas, sheet_name='NotaSaida', index=False)\n",
    "NFCe.to_excel(notas, sheet_name='NFCe', index=False)\n",
    "notas.close()\n"
   ]
  },
  {
   "cell_type": "markdown",
   "metadata": {},
   "source": [
    "#### 1.2.1. Obtendo notas fiscais escrituradas extemporaneamente\n",
    "\n",
    "A obrigação da escrituração se baseia na data de entrada, enquanto que a busca de notas fiscais no banco de dados nesse notebook se refere à data de emissão. \n",
    "Além disso, há a possibilidade de escrituração de nota fiscal extemporânea. \n",
    "Assim, deve-se obter as notas fiscais de emissão fora do período de abrangência da fiscalização. "
   ]
  },
  {
   "cell_type": "code",
   "execution_count": 11,
   "metadata": {},
   "outputs": [
    {
     "name": "stdout",
     "output_type": "stream",
     "text": [
      "Importando 12 documentos fiscais extemporâneos - Entrada.\n"
     ]
    }
   ],
   "source": [
    "# Extrair C100\n",
    "C100 = dados_efd.C100\n",
    "\n",
    "# Obter chaves de acesso a serem importadas\n",
    "notas_entradas_a_importar = C100[((C100['COD_SIT'].isin(['1', '7'])) | (C100['DT_DOC'] < data_inicio)) & (C100['IND_OPER']=='0') & (C100['COD_MOD']=='55')]['CHV_NFE'].values\n",
    "notas_saidas_a_importar = C100[((C100['COD_SIT'].isin(['1', '7'])) | (C100['DT_DOC'] < data_inicio)) & (C100['IND_OPER']=='1') & (C100['COD_MOD']=='55')]['CHV_NFE'].values\n",
    "notas_consumidor_a_importar = C100[((C100['COD_SIT'].isin(['1', '7'])) | (C100['DT_DOC'] < data_inicio)) & (C100['IND_OPER']=='1') & (C100['COD_MOD']=='65')]['CHV_NFE'].values\n",
    "\n",
    "\n",
    "if notas_entradas_a_importar.size > 0:\n",
    "    print(f'Adicionando {notas_entradas_a_importar.size} documentos fiscais extemporâneos - Entrada.')\n",
    "    NFeEntrada.AdicionarNotasFiscaisExtemporaneas(tuple(notas_entradas_a_importar))\n",
    "\n",
    "if notas_saidas_a_importar.size > 0:\n",
    "    print(f'Adicionando {notas_saidas_a_importar.size} documentos fiscais extemporâneos - Saída.')\n",
    "    NFeSaida.AdicionarNotasFiscaisExtemporaneas(tuple(notas_entradas_a_importar))\n",
    "\n",
    "if notas_consumidor_a_importar.size > 0:\n",
    "    print(f'Adicionando {notas_consumidor_a_importar.size} documentos fiscais extemporâneos - Consumidor.')\n",
    "    NFCe.AdicionarNotasFiscaisConsumidorExtemporaneas(tuple(notas_entradas_a_importar))"
   ]
  },
  {
   "cell_type": "markdown",
   "metadata": {},
   "source": [
    "## 2. Auditoria de Obrigações Acessórias"
   ]
  },
  {
   "cell_type": "markdown",
   "metadata": {},
   "source": [
    "### 2.1. Verificação da inscrição no CNPJ\n",
    "\n",
    "- Verificar se está inscrito;\n",
    "- Verificar o período de inscrição;\n"
   ]
  },
  {
   "cell_type": "code",
   "execution_count": 12,
   "metadata": {},
   "outputs": [],
   "source": [
    "temp = dados_cnpj.BuscarCadastro()\n",
    "\n",
    "if temp['SituacaoCadastral'].values in ('Ativa', 'Ativo'):\n",
    "    relatorio.append(f'Contribuinte está inscrito no CNPJ desde {pd.to_datetime(temp[\"DataCadastro\"].values[0]).strftime(\"%d/%m/%Y\")}.')\n",
    "\n",
    "else:\n",
    "    relatorio.append(f'Contribuinte está com inscrição desativada! {temp[\"SituacaoCadastral\"].values}.')\n",
    "\n",
    "del temp"
   ]
  },
  {
   "cell_type": "markdown",
   "metadata": {},
   "source": [
    "### 2.2. Verificação da inscrição no CGF \n",
    "\n",
    "- Verificar status da inscrição estadual no período de abrangência\n",
    "- Verificar regime de apuração\n",
    "- Verificar se o sócio-administrador está batendo com banco estadual"
   ]
  },
  {
   "cell_type": "code",
   "execution_count": 13,
   "metadata": {},
   "outputs": [],
   "source": [
    "temp = cadastro_historico.retrieve()\n",
    "if temp['SituacaoCadastral'].values[-1] in ('A', 'N'):\n",
    "    relatorio.append(f'Contribuinte está ativo no CGF.')\n",
    "\n",
    "else:\n",
    "    relatorio.append(f'Contribuinte está com inscrição pendente! {temp[\"SituacaoCadastral\"].values[-1]}.')\n",
    "\n",
    "del temp "
   ]
  },
  {
   "cell_type": "code",
   "execution_count": 14,
   "metadata": {},
   "outputs": [],
   "source": [
    "# raise NotImplementedError('Ainda não está pronto! Falta importar Socios do CGF!')\n",
    "socios_jucerr = dados_jucerr.BuscarSocios()\n",
    "# socios_cgf = DadosCadastrais.BuscarSocios(cnpj)"
   ]
  },
  {
   "cell_type": "markdown",
   "metadata": {},
   "source": [
    "### 2.3. Verificação de Emissão de Documentos Fiscais\n"
   ]
  },
  {
   "cell_type": "code",
   "execution_count": 15,
   "metadata": {},
   "outputs": [],
   "source": [
    "if NFeEntrada.quantidade()['quantidade'] == 0:\n",
    "    relatorio.append('O contribuinte NÃO está recebendo notas fiscais (de entrada) no período de abrangência.')\n",
    "    print(\"Foi encontrada uma irregularidade!\")\n",
    "else:\n",
    "    relatorio.append('O contribuinte está recebendo notas fiscais (de entrada) no período de abrangência.')\n",
    "\n",
    "if NFeSaida.quantidade()['quantidade'] == 0 and NFCe.quantidade()['quantidade'] == 0:\n",
    "    relatorio.append('O contribuinte NÃO está emitindo nota fiscal de saída (inclusive NFCe)!')\n",
    "    print(\"Foi encontrada uma irregularidade!\")\n",
    "else:\n",
    "    relatorio.append('O contribuinte está emitindo Nota Fiscal Eletrônica de saída / Nota Fiscal ao Consumiddor Eletrônica!')\n"
   ]
  },
  {
   "cell_type": "markdown",
   "metadata": {},
   "source": [
    "### 2.4. Verificação da declaração da Guia de Informação Mensal do ICMS"
   ]
  },
  {
   "cell_type": "code",
   "execution_count": 16,
   "metadata": {},
   "outputs": [],
   "source": [
    "# raise NotImplementedError('Excluir meses em que contribuinte estava pelo Simples Nacional')\n",
    "data_atual = data_inicio\n",
    "lista_periodos_sem_gim = []\n",
    "obrigatoriedade_gim = [data.strftime('%m/%Y') for data in obrigatoriedade[obrigatoriedade['OB_TIPO']=='GIM']['OB_DATA']]\n",
    "\n",
    "\n",
    "gim_importada = gim.retrieve()\n",
    "while data_atual <= data_fim:\n",
    "    if data_atual.strftime('%m/%Y') not in gim_importada[\"PERÍODO\"].values and data_atual.strftime('%m/%Y') in obrigatoriedade_gim:\n",
    "        lista_periodos_sem_gim.append(data_atual.strftime('%m/%Y'))\n",
    "    data_atual += relativedelta(months=1)\n",
    "\n",
    "if len(lista_periodos_sem_gim) != 0:\n",
    "    relatorio.append('Há meses com omissão de declaração de Guia de Informações Mensais no período de abrangência.')\n",
    "else:\n",
    "    relatorio.append('O contribuinte transmitiu todas as Guia de Informações Mensais no período de abrangência.')\n",
    "\n",
    "del gim_importada"
   ]
  },
  {
   "cell_type": "markdown",
   "metadata": {},
   "source": [
    "### 2.5. Verificação da declaração da Escrituração Fiscal Digital "
   ]
  },
  {
   "cell_type": "code",
   "execution_count": null,
   "metadata": {},
   "outputs": [],
   "source": [
    "data_atual = data_inicio\n",
    "lista_periodos_sem_efd = []\n",
    "obrigatoriedade_efd = [data.strftime('%m/%Y') for data in obrigatoriedade[obrigatoriedade['OB_TIPO']=='EFD']['OB_DATA']]\n",
    "\n",
    "INFO0000 = dados_efd.INFO0000\n",
    "meses_escriturados = [x.strftime('%m/%Y') for x in INFO0000['DT_INI']]\n",
    "\n",
    "while data_atual <= data_fim:\n",
    "    if data_atual.strftime('%m/%Y') not in meses_escriturados and data_atual.strftime('%m/%Y') in obrigatoriedade_efd:\n",
    "        lista_periodos_sem_efd.append(data_atual.strftime('%m/%Y'))\n",
    "    data_atual += relativedelta(months=1)\n",
    "\n",
    "if len(lista_periodos_sem_efd) != 0:\n",
    "    relatorio.append('Há meses com omissão de declaração de Escrituração Fiscal Digital no período de abrangência.')\n",
    "else:\n",
    "    relatorio.append('O contribuinte transmitiu todas as Escrituração Fiscal Digital no período de abrangência.')\n",
    "    \n",
    "del INFO0000 \n",
    "del meses_escriturados"
   ]
  },
  {
   "cell_type": "markdown",
   "metadata": {},
   "source": [
    "#### 2.5.1. Verificação de declaração da Escrituração Fiscal Digital com Inventário (Bloco H)\n",
    "\n",
    "Verificar se há declarado estoque início e final (meses de dezembro, janeiro e fevereiro)\n",
    "\n",
    "Tem que gerar relatório.\n",
    "\n",
    "Verificar se validador aceita bloco H em outros meses."
   ]
  },
  {
   "cell_type": "code",
   "execution_count": 5,
   "metadata": {},
   "outputs": [],
   "source": [
    "def extrair_anos(data_inicio, data_fim):\n",
    "    return list(range(data_inicio.year, data_fim.year + 1))"
   ]
  },
  {
   "cell_type": "code",
   "execution_count": 6,
   "metadata": {},
   "outputs": [],
   "source": [
    "# Obtendo dados de declaração de H (estoque)\n",
    "H001 = dados_efd.H001 \n",
    "\n",
    "# Filtrando por blocos H declarados\n",
    "H001 = H001[H001['IND_MOV']=='0']\n",
    "\n",
    "\n",
    "# Filtrando por EFD de dezembro a fevereiro\n",
    "INFO0000 = dados_efd.INFO0000 \n",
    "INFO0000 = INFO0000[INFO0000['DT_INI'].dt.month.isin([12, 1, 2])]   # Precisa ser declarado o bloco H de dezembro a fevereiro\n",
    "\n",
    "# Verificando datas de declaração\n",
    "INFO0000 = INFO0000[INFO0000['ID_0000'].isin(H001['ID_0000'])]\n",
    "\n",
    "anos_com_H = INFO0000['DT_INI'].dt.year\n",
    "exercicios_fiscalizados = extrair_anos(data_inicio, data_fim)\n",
    "\n",
    "\n",
    "\n",
    "# Se quantidade de bloco H < qtde anos, informar ausência de bloco H\n",
    "if len(anos_com_H) < len(exercicios_fiscalizados):\n",
    "    exercicios_com_omissao_H = [x for x in exercicios_fiscalizados if x not in anos_com_H]\n",
    "    relatorio.append(f'Há omissão de declaração do bloco H (Estoque) da Escrituração Fiscal Digital nos exercícios de: {exercicios_com_omissao_H}')\n",
    "else:\n",
    "    relatorio.append('Não foram constatadas omissões de bloco H nas Escriturações Fiscais Digitais no período de abrangência.')\n",
    "\n",
    "del INFO0000 \n",
    "del H001\n",
    "del anos_com_H \n",
    "del exercicios_fiscalizados"
   ]
  },
  {
   "cell_type": "markdown",
   "metadata": {},
   "source": [
    "## 3. Auditoria dos Dados Cadastrais"
   ]
  },
  {
   "cell_type": "markdown",
   "metadata": {},
   "source": [
    "### 3.1. Verificação do regime de apuração de ICMS"
   ]
  },
  {
   "cell_type": "code",
   "execution_count": null,
   "metadata": {},
   "outputs": [],
   "source": [
    "regimes = cadastro_historico.retrieve()[['DataAlteracao', 'DataAlteracaoAnterior', 'OptanteSimples', 'OptanteSimplesAnterior']]\n",
    "regimes = regimes[(regimes['DataAlteracao']>=data_inicio) | (regimes['DataAlteracao'].isin(regimes[regimes['DataAlteracao']>=data_inicio]['DataAlteracaoAnterior'].values))]\n",
    "regimes.columns = ['Periodo Final', 'Periodo Inicial', 'RegimeSimples', 'RegimeSimplesPeriodo']\n",
    "regimes"
   ]
  },
  {
   "cell_type": "code",
   "execution_count": 17,
   "metadata": {},
   "outputs": [],
   "source": [
    "data_atual = data_inicio\n",
    "regimes_sn = []\n",
    "\n",
    "if 1 in regimes['RegimeSimplesPeriodo']:\n",
    "    regimes_simples = regimes[regimes['RegimeSimplesPeriodo']==0]\n",
    "    for idx, periodo in regimes_simples.iterrows():\n",
    "        periodo_inicial_regime = periodo['Periodo Inicial'].strftime('%d/%m/%Y')\n",
    "        periodo_final_regime = periodo['Periodo Final'].strftime('%d/%m/%Y')\n",
    "        regimes_sn.append([periodo_inicial_regime, periodo_final_regime])\n",
    "\n",
    "if regimes['RegimeSimples'].values[-1] != 0:\n",
    "    periodo_inicial_regime = regimes['Periodo Inicial'].values[-1].strftime('%d/%m/%Y')\n",
    "    periodo_final_regime = regimes['Periodo Final'].values[-1].strftime('%d/%m/%Y')\n",
    "    regimes_sn.append([periodo_inicial_regime, periodo_final_regime])\n",
    "\n",
    "if len(regimes_sn) != 0:\n",
    "    relatorio.append('Há meses com Opção de Recolhimento pelo Simples Nacional no período de abrangência.')\n",
    "else:\n",
    "    relatorio.append('O contribuinte recolheu pelo regime normal durante todo o período de abrangência.')\n",
    "    \n",
    "del regimes"
   ]
  },
  {
   "cell_type": "markdown",
   "metadata": {},
   "source": [
    "### 3.2. Verificação de cadastro de atividades econômicas"
   ]
  },
  {
   "cell_type": "markdown",
   "metadata": {},
   "source": [
    "## 4. Auditoria da Situação Fiscal"
   ]
  },
  {
   "cell_type": "markdown",
   "metadata": {},
   "source": [
    "### 4.1. Verificação da existência de débitos constantes do DSOT\n",
    "\n",
    "Os débitos precisam estar inseridos no âmbito da fiscalização (OS)"
   ]
  },
  {
   "cell_type": "code",
   "execution_count": 18,
   "metadata": {},
   "outputs": [],
   "source": [
    "dsot_existente = dsot.retrieve()\n",
    "dsot_ativo = dsot_existente[dsot_existente['Suspensao']=='N']\n",
    "if dsot_existente.empty:\n",
    "    relatorio.append('Não há débitos registrados nos sistemas da SEFAZ-RR.')\n",
    "elif dsot_ativo.empty: \n",
    "    relatorio.append(f'Há apenas débitos suspensos registrados nos sistemas da SEFAZ-RR')\n",
    "else: \n",
    "    valor_total_debito = sum(dsot_ativo['ValorPrincipal'] + dsot_ativo['ValorMulta'] + dsot_ativo['ValorJuros'] + dsot_ativo['ValorCorrecao'])\n",
    "    relatorio.append(f'Há débitos registrados nos sistemas da SEFAZ-RR no montante de{valor_total_debito}')\n",
    "\n",
    "del dsot_ativo\n",
    "del dsot_existente"
   ]
  },
  {
   "cell_type": "markdown",
   "metadata": {},
   "source": [
    "## 5. Auditoria das Operações e Prestações de Entrada"
   ]
  },
  {
   "cell_type": "code",
   "execution_count": null,
   "metadata": {},
   "outputs": [],
   "source": [
    "# Trazer dados para memória RAM \n",
    "nfe_entrada = NFeEntrada.retrieve()\n",
    "eventos_desemb = DadosOperacoes.EventosDesembaraco(tuple(nfe_entrada[nfe_entrada['DESTINO']=='INTERESTADUAL']['ChaveAcesso'].values)).retrieve()\n",
    "eventos = DadosOperacoes.EventosNotas(tuple(nfe_entrada['ChaveAcesso'].values)).retrieve()"
   ]
  },
  {
   "cell_type": "markdown",
   "metadata": {},
   "source": [
    "### 5.1. Verificação de notas fiscais de entrada não escrituradas\n",
    "\n",
    "Regras:\n",
    "- Escriturado: não verifica\n",
    "- Não escriturado e desembaraçado (interestadual): Exige baseado na data do desembaraço\n",
    "- Não escriturado e não desembaraçado (interestadual): não exige qualquer conformidade\n",
    "- Não escriturado e não desembaraçado (interno) e com evento de não reconhecimento: não exige qualquer conformidade\n",
    "- Não escriturado e não desembaraçado (interno) e sem evento de não reconhecimento: exige escrituração baseado no mês da data de emissão"
   ]
  },
  {
   "cell_type": "code",
   "execution_count": 6,
   "metadata": {},
   "outputs": [],
   "source": [
    "# Primeira parte - Obtendo documentos de entrada não escriturados\n",
    "C100 = dados_efd.C100\n",
    "\n",
    "\n",
    "nfe_n_escriturada = nfe_entrada[~nfe_entrada['ChaveAcesso'].isin(C100.CHV_NFE)]\n",
    "\n",
    "# Segunda parte - Obtendo documentos desembaraçados se for interestadual\n",
    "nfe_n_escriturada = nfe_n_escriturada.merge(eventos_desemb, left_on='ChaveAcesso', right_on='CHV_ACC', how='left')\n",
    "nfe_n_escriturada = nfe_n_escriturada[(nfe_n_escriturada['ChaveAcesso'].isin(eventos_desemb['CHV_ACC'])) | (nfe_n_escriturada['DESTINO'] != 'INTERESTADUAL')]\n",
    "\n",
    "# Terceira parte - Filtrando pelos documentos com eventos\n",
    "eventos_canc = eventos[eventos['CodigoEvento'].isin(['210220', '210240'])]\n",
    "nfe_n_escriturada = nfe_n_escriturada[~(nfe_n_escriturada['ChaveAcesso'].isin(eventos_canc['ChaveAcesso']))]\n",
    "\n",
    "# Quarta parte - Verificar data de escrituração devida\n",
    "def calculate_data_escrituracao(linha):\n",
    "    if linha['DATA_PASSAGEM'] is None:\n",
    "        return linha['DATA_PASSAGEM']\n",
    "    elif str(linha['CFOP.ITEM'])[0] in ['2', '5']:\n",
    "        return linha['DT.EMISSÃO'] + relativedelta(days=2)\n",
    "    else:\n",
    "        return linha['DT.EMISSÃO']\n",
    "\n",
    "nfe_n_escriturada['DataEscrituraçãoDevida'] = nfe_n_escriturada.apply(calculate_data_escrituracao, axis=1)\n",
    "\n",
    "\n",
    "# Quinta parte - Indicar existência de notas não escrituradas \n",
    "if not nfe_n_escriturada.empty: \n",
    "    relatorio.append(f'Existem {len(nfe_n_escriturada)} Notas Fiscais válidas e não escrituradas no período.')\n",
    "\n",
    "else:\n",
    "    relatorio.append(f'Não existem Notas Fiscais não escrituradas no período.')\n",
    "\n",
    "del nfe_n_escriturada \n",
    "del eventos_canc \n"
   ]
  },
  {
   "cell_type": "markdown",
   "metadata": {},
   "source": [
    "### 5.2. Verificação de notas fiscais não desembaraçadas \n",
    "\n",
    "Criam-se duas tabelas:\n",
    "- Tabela de Nota não escriturada e não desembaraçada;\n",
    "- Tabela de nota escriturada e não desembaraçada.\n",
    "\n",
    "Regras:\n",
    "- Data de Desembaraço: Data de emissão + 90 (caso não escriturado) OU data de escrituração (DT_E_S).\n",
    "- Remove notas com passagem no posto e com código de evento de cancelamento."
   ]
  },
  {
   "cell_type": "code",
   "execution_count": 20,
   "metadata": {},
   "outputs": [],
   "source": [
    "# Primeira parte - Obtendo documentos interestaduais\n",
    "nfe_n_desemb = nfe_entrada[(nfe_entrada['DESTINO']=='INTERESTADUAL')&(nfe_entrada['FINALIDADE'].isin(['NORMAL', 'DEVOLUÇÃO', 'N/A']))]\n",
    "\n",
    "# Segunda parte - Obtendo eventos de desembaraço para filtrar por não desembaraço\n",
    "nfe_n_desemb = nfe_n_desemb[~nfe_n_desemb['ChaveAcesso'].isin(eventos_desemb['CHV_ACC'])]\n",
    "\n",
    "\n",
    "# Terceira parte - Verificando quais foram escrituradas\n",
    "nfe_n_desemb = nfe_n_desemb.merge(C100[['CHV_NFE', 'DT_E_S']], left_on='ChaveAcesso', right_on='CHV_NFE', how='left')\n",
    "nfe_n_desemb['Escriturado'] = ~nfe_n_desemb['CHV_NFE'].isna() \n",
    "\n",
    "\n",
    "# Quarta Parte Encontrando data de desembaraço devida\n",
    "nfe_n_desemb['DataDesembaraçoDevida'] = [linha['DT.EMISSÃO'] + relativedelta(days=90) if not linha['Escriturado'] else linha['DT_E_S'] for idx, linha in nfe_n_desemb.iterrows() ]\n",
    "\n",
    "# Quinta Parte - Filtrando pelos documentos com eventos\n",
    "eventos_canc = eventos[eventos['CodigoEvento'].isin(['210220', '210240'])]\n",
    "nfe_n_desemb = nfe_n_desemb[~(nfe_n_desemb['ChaveAcesso'].isin(eventos_canc['ChaveAcesso']))]\n",
    "\n",
    "# Sexta parte - Indicar existência de notas não desembaraçadas\n",
    "if not nfe_n_desemb.empty: \n",
    "    print('Foi encontrado Notas Fiscais válidas e não desembaraçadas no período')\n",
    "    relatorio.append(f'Existem {len(nfe_n_desemb)} Notas Fiscais válidas e não desembaraçadas no período.')\n",
    "\n",
    "else:\n",
    "    relatorio.append(f'Não existem Notas Fiscais não desembaraçadas no período.')\n",
    "\n",
    "del nfe_n_desemb \n",
    "del eventos_canc"
   ]
  },
  {
   "cell_type": "markdown",
   "metadata": {},
   "source": [
    "### 5.3. Verificação de notas fiscais canceladas escrituradas na entrada\n",
    "\n",
    "Verificam-se as notas fiscais que não deveriam ter sido escrituradas por terem eventos de cancelamento. \n",
    "\n",
    "\n",
    "|Código|Descrição|\n",
    "|---|---|\n",
    "|00|Documento Regular|\n",
    "|01|Escrituração extemporânea de documento regular|\n",
    "|02|Documento cancelado|\n",
    "|03|Escrituração extemporânea de documento cancelado|\n",
    "|04|Doc denegado|\n",
    "|05|Numeração inutilizada|\n",
    "|06|DF-e Complementar|\n",
    "|07|Escrituração extemporânea de DF-e complementar|\n",
    "|08|DF-e emitido com base em Regime Especial ou Norma Específica|"
   ]
  },
  {
   "cell_type": "code",
   "execution_count": null,
   "metadata": {},
   "outputs": [],
   "source": [
    "# Primeira parte - Obter notas fiscais escrituradas\n",
    "C100 = dados_efd.C100\n",
    "\n",
    "# Segunda parte - Filtrar por Notas de entrada e sem COD_SIT de cancelados \n",
    "C100 =  C100[(C100['IND_OPER']=='0')]\n",
    "C100_canc = C100[(~C100['COD_SIT'].isin(['00', '01', '06', '07', '08', '0', '1', '6', '7', '8']))]\n",
    "C100_n_canc = C100[(C100['COD_SIT'].isin(['00', '01', '06', '07', '08', '0', '1', '6', '7', '8']))]\n",
    "\n",
    "# Terceira parte - Obter últimos eventos dos documentos escriturados e renomear colunas\n",
    "eventos = eventos.sort_values(by='SequenciaEvento', ascending=False).drop_duplicates(subset = 'ChaveAcesso', keep='first')\n",
    "eventos.rename(columns={'ChaveAcesso': 'CHV_NFE'}, inplace=True)\n",
    "\n",
    "# Quarta parte - Filtrando por eventos de cancelamentos\n",
    "eventos_canc = eventos[eventos['CodigoEvento'].isin(['110111', '210220', '210240'])]\n",
    "\n",
    "# Quinta parte - Filtrar por notas escrituradas e com eventos de cancelamento\n",
    "nota_canc_escriturada = C100_n_canc.merge(eventos_canc, on = 'CHV_NFE', how='inner', validate='one_to_one') \n",
    "\n",
    "# Relatando problemas\n",
    "if not nota_canc_escriturada.empty:\n",
    "    print('Foram encontradas Notas Fiscais inválidas e escrituradas no período.')\n",
    "    relatorio.append(f'Existem {len(nota_canc_escriturada)} Notas Fiscais inválidas e escrituradas no período.')\n",
    "else:\n",
    "    print('Não foram encontradas Notas Fiscais inválidas e escrituradas no período.')\n",
    "\n",
    "# Sexta parte - Filtrar por notas escrituradas como canceladas e sem eventos de cancelamento\n",
    "nota_n_canc_escriturada_canc = C100_n_canc.merge(eventos, on = 'CHV_NFE', how='left_only', validate='one_to_one') \n",
    "\n",
    "# Relatando problemas\n",
    "if not nota_n_canc_escriturada_canc.empty:\n",
    "    print('Foram encontradas Notas Fiscais sem eventos de cancelamento e escrituradas como canceladas no período.')\n",
    "    relatorio.append(f'Existem {len(nota_n_canc_escriturada_canc)} Notas Fiscais válidas e escrituradas como canceladas no período.')\n",
    "else:\n",
    "    print('Não foram encontradas Notas Fiscais inválidas e escrituradas no período.')\n",
    "\n",
    "# Retirando dados da memória RAM\n",
    "del nota_canc_escriturada\n",
    "del nota_n_canc_escriturada_canc\n",
    "del eventos_canc\n",
    "del C100 \n",
    "del C100_canc \n",
    "del C100_n_canc"
   ]
  },
  {
   "cell_type": "markdown",
   "metadata": {},
   "source": [
    "### 5.4. Verificação de Escrituração Duplicada no C100 em entrada\n",
    "\n",
    "Verifica se há dupla escrituração de uma mesma nota em períodos distintos.\n",
    "\n",
    "Regra:\n",
    "- Verificar se há chave de acesso dobrada\n",
    "- Verificar se há o conjunto \"série, número e remetente\" duplicados."
   ]
  },
  {
   "cell_type": "code",
   "execution_count": null,
   "metadata": {},
   "outputs": [],
   "source": [
    "# Extraindo os dados\n",
    "C100 = dados_efd.C100\n",
    "C100 =  C100[(C100['IND_OPER']=='0')]    # Filtrando pelas entradas\n",
    "\n",
    "# Enriquecendo com dados de mês de referência de EFD\n",
    "INFO0000 = dados_efd.INFO0000[['ID_0000', 'DT_INI']]\n",
    "INFO0000['DT_INI'] = INFO0000['DT_INI'].strftime('%m/%Y')\n",
    "INFO0000.columns = ['ID_0000', 'MesReferencia']\n",
    "C100 = INFO0000.merge(C100, on = 'ID_0000', how='inner', validate = 'one_to_many')\n",
    "\n",
    "# Verificando chaves dobradas\n",
    "chaves_dobradas = C100[C100.duplicated(subset='CHV_NFE')]['CHF_NFE'].unique() \n",
    "chaves_dobradas['Irregularidade'] = 'Chave de Acesso Duplicada'\n",
    "\n",
    "# Verificando conjunto \"serie, numero e remetente\" duplicados\n",
    "notas_dobradas = C100[C100.duplicated(subset=['COD_PART', 'COD_MOD', 'SER', 'NUM_DOC'])]\n",
    "notas_dobradas['Irregularidade'] = 'Conjunto de Código Participante, Série, Número de Nota e Modelo de Documento Duplicados'\n",
    "\n",
    "escrituracao_duplicada = pd.concat([chaves_dobradas, notas_dobradas], axis=0)\n",
    "\n",
    "# Relatando problemas\n",
    "if not escrituracao_duplicada.empty:\n",
    "    print('Foram encontradas Notas Fiscais de entrada duplicadas no período de abrangência da fiscalização')\n",
    "    relatorio.append(f'Existem {len(escrituracao_duplicada)} Notas Fiscais de entrada duplicadas no período de abrangência de fiscalização.')\n",
    "else:\n",
    "    print('Não foram encontradas Notas Fiscais de entrada duplicadas no período de abrangência da fiscalização')\n",
    "\n",
    "# Retirando dados da memória RAM\n",
    "del C100 \n",
    "del INFO0000\n",
    "del chaves_dobradas \n",
    "del notas_dobradas \n",
    "del escrituracao_duplicada"
   ]
  },
  {
   "cell_type": "markdown",
   "metadata": {},
   "source": [
    "### 5.4. Verificação de Escrituração do C170 (Obrigação Acessória)\n",
    "\n",
    "Este procedimento serve para identificar inconsistências entre o C170 e as Notas Fiscais. \n",
    "\n",
    "<i>A inconsistência é gerada quando o contribuinte não respeita o NUM_ITEM (que deve ser igual entre o C170 e a nota respectiva)</i>"
   ]
  },
  {
   "cell_type": "code",
   "execution_count": null,
   "metadata": {},
   "outputs": [],
   "source": [
    "# Preparando o 0200\n",
    "INFO0200 = dados_efd.INFO0200 \n",
    "\n",
    "INFO0200.drop_duplicates(subset=['COD_ITEM', 'DESCR_ITEM', 'COD_NCM', 'COD_BARRA'], inplace=True)\n",
    "\n",
    "if INFO0200['COD_ITEM'].duplicated().sum() > 0:\n",
    "    inconsistencia_0200 = INFO0200[INFO0200['COD_ITEM'].duplicated()]\n",
    "    relatorio.append('Foi encontrada inconsistência no registro 0200 com mesmo COD_ITEM de descrições distintas.')"
   ]
  },
  {
   "cell_type": "markdown",
   "metadata": {},
   "source": [
    "### 5.5. Verificação de créditos de ICMS"
   ]
  },
  {
   "cell_type": "markdown",
   "metadata": {},
   "source": [
    "#### 5.3.1. C170 x 0200 x NF-e\n",
    "\n",
    "Pontos verificados:\n",
    "- Alíquotas \n",
    "- Direitos à crédito por CFOP\n",
    "\n",
    "\n",
    "Regras:\n",
    "- Verificar se há direito a crédito de cada produto;\n",
    "  - Se o produtor for tributado, considerar com direito a crédito\n",
    "  - Se o produto não for tributado, exigir modificação no C170 para não ter direito a crédito\n",
    "  - Se o produto for sujeito a ST, exigir modificação no C170 para não ter direito a crédito\n"
   ]
  },
  {
   "cell_type": "markdown",
   "metadata": {},
   "source": [
    "##### 5.3.1.1. Parametrizar o registro 0200"
   ]
  },
  {
   "cell_type": "code",
   "execution_count": null,
   "metadata": {},
   "outputs": [],
   "source": [
    "raise NotImplementedError('Optar pelo modelo do Lucas Bem')\n",
    "# Preparando o 0200\n",
    "INFO0200 = dados_efd.INFO0200\n",
    "INFO0200.drop_duplicates(subset=['COD_ITEM', 'DESCR_ITEM', 'COD_BARRA', 'COD_NCM'], inplace=True)\n",
    "\n",
    "\n",
    "if INFO0200['COD_ITEM'].duplicated().sum() > 0:\n",
    "    inconsistencia_0200 = INFO0200[INFO0200['COD_ITEM'].duplicated()]\n",
    "    print('Foi encontrada inconsistência no registro 0200 com mesmo COD_ITEM de descrições distintas e/ou NCM e GTIN distintos.')\n",
    "    relatorio.append('Foi encontrada inconsistência no registro 0200 com mesmo COD_ITEM de descrições distintas e/ou NCM e GTIN distintos.')\n",
    "\n",
    "# Continuando a análise com apenas o primeiro registro do COD_ITEM\n",
    "INFO0200.drop_duplicates(subset='COD_ITEM', inplace=True)\n",
    "\n",
    "# Adicionando tabela de GTIN \n",
    "GTIN = parametrizacoes.BuscarGtin()\n",
    "INFO0200 = INFO0200.merge(GTIN, left_on = 'COD_BARRA', right_on='GTIN', how='left', validate='many_to_one')\n",
    "\n",
    "# Adicionando tabela de NCM \n",
    "NCM = parametrizacoes.BuscarNcmParametrizados()\n",
    "INFO0200 = INFO0200.merge(NCM, left_on = 'COD_NCM', right_on='NCM', how='left', validate='many_to_one')\n",
    "\n",
    "# Parametrizando Alíquota    - Depende da data e da UF de remessa, logo ficará a cargo de parametrizar com as notas\n",
    "for idx, linha in INFO0200.iterrows():\n",
    "    if pd.notna(linha['CLASSE']): # Se houver parametrização por GTIN\n",
    "        parametrizacao = linha['CLASSE']\n",
    "    elif pd.notna(linha['PARAMETRIZAÇÃO']):  # Se houver parametrização por NCM\n",
    "        parametrizacao = linha['PARAMETRIZAÇÃO']\n",
    "    else: \n",
    "        parametrizacao = '4202'     # Salvo contrário, considerar tributado.\n",
    "    INFO0200.loc[idx, 'CODIGO_PARAMETRIZADO'] = parametrizacao\n",
    "\n",
    "INFO0200.drop_duplicates(subset='COD_ITEM', inplace=True)\n",
    "\n",
    "INFO0200.head()"
   ]
  },
  {
   "cell_type": "markdown",
   "metadata": {},
   "source": [
    "##### 5.3.1.2. Inserir Parametrização no C170"
   ]
  },
  {
   "cell_type": "code",
   "execution_count": 17,
   "metadata": {},
   "outputs": [],
   "source": [
    "# Primeira parte - Obtendo documentos de entrada não escriturados\n",
    "C170 = dados_efd.C170\n",
    "C100 = dados_efd.C100\n",
    "C170_completo = C100[['ID_C100', 'CHV_NFE', 'DT_E_S']].merge(C170, on = ['ID_C100'], validate='one_to_many', how='right') # Filtrando apenas por documentos com C170\n",
    "\n",
    "# Segunda Parte - Inserindo APENAS código de parametrização e descrição do produto\n",
    "C170_completo = C170_completo.merge(INFO0200[['COD_ITEM', 'DESCR_ITEM', 'CODIGO_PARAMETRIZADO']], on='COD_ITEM', how='left', validate='many_to_one')\n",
    "\n",
    "\n",
    "# Terceira Parte - Acrescentar parametrização de CFOP\n",
    "CFOP = parametrizacoes.BuscarCFOPTributados()\n",
    "C170_completo = C170_completo.merge(CFOP, on='CFOP', how='left', validate='many_to_one')\n",
    "\n",
    "# Quarta parte - Reduzindo a tabela de C170 modificado\n",
    "C170_completo = C170_completo[['CHV_NFE', 'NUM_ITEM', 'DT_E_S', 'COD_ITEM', 'QTD', 'UNID', 'DESCR_ITEM', 'VL_ITEM', \n",
    "                         'VL_DESC', 'CFOP', 'VL_BC_ICMS', 'ALIQ_ICMS', 'VL_ICMS', \n",
    "                         'CODIGO_PARAMETRIZADO', 'GERA_CREDITO']]\n",
    "\n",
    "# Quinta parte - Padronizando nome de colunas \n",
    "C170_completo.columns = ['CHV_NFE', 'NUM_ITEM', 'DT_E_S_C170', 'COD_ITEM_C170', 'QTD_C170', 'UNID_C170', 'DESCR_ITEM_C170', 'VL_ITEM_C170', \n",
    "                         'VL_DESC_C170', 'CFOP_C170', 'VL_BC_ICMS_C170', 'ALIQ_ICMS_C170', 'VL_ICMS_C170', \n",
    "                         'CODIGO_PARAMETRIZADO_C170', 'GERA_CREDITO_C170']"
   ]
  },
  {
   "cell_type": "markdown",
   "metadata": {},
   "source": [
    "##### 5.3.1.3. Inserir parametrização nas NF-e de Entrada"
   ]
  },
  {
   "cell_type": "code",
   "execution_count": 24,
   "metadata": {},
   "outputs": [],
   "source": [
    "# Obtendo apenas campos necessários\n",
    "NFe_ENTRADA = nfe_entrada[['ChaveAcesso', 'Nº.ITEM', 'DT.EMISSÃO', 'DESC.ITEM', 'CFOP.ITEM', 'CLASSE.FRONT', 'GTIN', 'NCM', 'BC.ICMS.ITEM', 'ALIQ', 'ICMS.ITEM', 'ICMS.DESON.ITEM']]\n",
    "NFe_ENTRADA = NFe_ENTRADA.copy()\n",
    "\n",
    "# Convert columns to string safely\n",
    "NFe_ENTRADA.loc[:, 'CFOP.ITEM'] = NFe_ENTRADA['CFOP.ITEM'].astype(str)\n",
    "NFe_ENTRADA.loc[:, 'ChaveAcesso'] = NFe_ENTRADA['ChaveAcesso'].astype(str)\n",
    "NFe_ENTRADA.loc[:, 'Nº.ITEM'] = NFe_ENTRADA['Nº.ITEM'].astype(str)\n",
    "\n",
    "# Adicionando a parametrização\n",
    "NFe_ENTRADA = NFe_ENTRADA.merge(CFOP[['CFOP', 'GERA_CREDITO']], left_on='CFOP.ITEM', right_on='CFOP', how='left', validate='many_to_one')\n",
    "\n",
    "# Mudando nome de colunas para ficar padronizado\n",
    "NFe_ENTRADA.drop(columns='CFOP', inplace=True)\n",
    "NFe_ENTRADA.columns = ['CHV_NFE', 'NUM_ITEM', 'DT_EMISSÃO_NFe', 'DESC.ITEM_NFe', 'CFOP.ITEM_NFe', 'CLASSE.FRONT_NFe',\n",
    "                        'GTIN_NFe', 'NCM_NFe', 'BC.ICMS.ITEM_NFe', 'ALIQ_NFe', 'ICMS.ITEM_NFe', 'ICMS.DESON.ITEM_NFe',\n",
    "                        'GERA_CREDITO_NFe']"
   ]
  },
  {
   "cell_type": "markdown",
   "metadata": {},
   "source": [
    "##### 5.3.1.4. Verificação de creditamento de ICMS de notas fiscais com CFOP que não dão direito ao crédito\n",
    "\n",
    "- Direito a crédito via NFe x Direito a Crédito por C170 \n",
    "    \n",
    "    Verifica-se se há casos em que haja aproveitamento indevido de créditos no C170 quando a NF-e não permitir ter o direito (CFOP que não dão direito ao crédito).\n"
   ]
  },
  {
   "cell_type": "code",
   "execution_count": null,
   "metadata": {},
   "outputs": [],
   "source": [
    "# Cruzando C170 modificado com NF-e de entrada\n",
    "sem_direito_a_cred = C170_completo.merge(NFe_ENTRADA, on=['CHV_NFE', 'NUM_ITEM'], how='left', suffixes=['_C170', '_NFe'])\n",
    "\n",
    "# Verificando direitos a crédito\n",
    "sem_direito_a_cred = sem_direito_a_cred[(sem_direito_a_cred['GERA_CREDITO_NFe']==False) & (sem_direito_a_cred['GERA_CREDITO_C170']==True) & (sem_direito_a_cred['VL_ICMS_C170']>0)]\n",
    "\n",
    "# Verificando se há alguma irregularidade\n",
    "if not sem_direito_a_cred.empty and sem_direito_a_cred['VL_ICMS_C170'].sum() >= valor_minimo_significancia:\n",
    "    resultado = f'Foi encontrado indício de irregularidade de direitos de créditos no C170 - Por Item - Quantidade: {len(sem_direito_a_cred)}'\n",
    "    relatorio.append([resultado])\n",
    "    print(resultado)\n",
    "else:\n",
    "    print('Não foi encontrado discrepância significativa no direito ao creditamento no C170.')"
   ]
  },
  {
   "cell_type": "markdown",
   "metadata": {},
   "source": [
    "##### 5.3.1.5. Verificação de alíquota do C170 (comparando com NF-e)\n",
    "\n",
    "- Alíquota via NFe x Alíquota C170\n",
    "\n",
    "    Primeiramente, verifica-se se a alíquota do C170 é diferente da alíquota da NF-e, por item.\n",
    "    Não podemos fazer pelo valor de produto ou valor de ICMS pelo fato de o contribuinte acabar escriturando de forma incorreta (foi constatado que ele preenche \"NUM_ITEM\" diferentes do da nota fiscal em si).\n",
    "    Caso o valor da alíquota seja diferente, gerar relatório para verificar manualmente a irregularidade.\n",
    "\n",
    "    <i>Observação: notas emitidas por empresas do Simples Nacional naturalmente serão apresentadas nesse relatório. Por isso não há outro procedimento de auditoria para buscar notas emitidas por SN e com creditamento de ICMS</i>"
   ]
  },
  {
   "cell_type": "code",
   "execution_count": null,
   "metadata": {},
   "outputs": [],
   "source": [
    "raise NotImplementedError('Parei aqui na reunião com Papito')\n",
    "# Cruzar C170 modificado com NF-e de entrada\n",
    "cruzamento_efd_nfe_item = C170_completo.merge(NFe_ENTRADA, on=['CHV_NFE', 'NUM_ITEM'], how='left', suffixes=['_C170', '_NFe'])\n",
    "\n",
    "# Verificar diferença de alíquotas\n",
    "cruzamento_efd_nfe_item['Diferença_Alíquotas'] = cruzamento_efd_nfe_item['ALIQ_ICMS_C170']>cruzamento_efd_nfe_item['ALIQ_NFe']\n",
    "\n",
    "# Filtrar por diferenças significativas\n",
    "cruzamento_efd_nfe_item = cruzamento_efd_nfe_item[cruzamento_efd_nfe_item['Diferença_Alíquotas']==True]\n",
    "\n",
    "# Relatar\n",
    "if not cruzamento_efd_nfe_item.empty and cruzamento_efd_nfe_item['VL_ICMS_C170'].sum() >= valor_minimo_significancia:\n",
    "    resultado = f'Foi encontrado indício de irregularidade de alíquotas no C170 - Por Item - Quantidade: {len(cruzamento_efd_nfe_item)}'\n",
    "    relatorio.append([resultado])\n",
    "    print(resultado)\n",
    "else:\n",
    "    print('Não foi encontrado discrepância significativa.')"
   ]
  },
  {
   "cell_type": "markdown",
   "metadata": {},
   "source": [
    "#### 5.3.2. C190 x NF-e (itens adicionados)\n",
    "\n",
    "Pontos verificados:\n",
    "- Valor total de produto (VL_OPR)\n",
    "- Valor total de Base de Cálculo\n",
    "- Valor total de ICMS "
   ]
  },
  {
   "cell_type": "markdown",
   "metadata": {},
   "source": [
    "##### 5.3.2.1. Preparar C190"
   ]
  },
  {
   "cell_type": "code",
   "execution_count": 28,
   "metadata": {},
   "outputs": [],
   "source": [
    "# Preparar C190\n",
    "C190 = dados_efd.C190 \n",
    "C100 = dados_efd.C100 \n",
    "C190_completo = C100[C100['IND_OPER'=='0']][['ID_C100', 'CHV_NFE', 'DT_E_S', 'IND_OPER']].merge(C190, on='ID_C100', how='left', validate='one_to_many') # Filtrando apenas por notas de entrada\n",
    "\n",
    "# Agrupar por CFOP\n",
    "C190_mod = C190_completo.groupby(['CHV_NFE', 'CST_ICMS', 'ALIQ_ICMS'], as_index=False)[['VL_OPR', 'VL_BC_ICMS', 'VL_ICMS']].sum()\n",
    "\n",
    "# Padronizar nome de colunas \n",
    "C190_mod.columns = ['CHV_NFE', 'CST_ICMS', 'ALIQ_ICMS', 'VL_OPR_C190', 'VL_BC_ICMS_C190', 'VL_ICMS_C190']"
   ]
  },
  {
   "cell_type": "markdown",
   "metadata": {},
   "source": [
    "##### 5.3.2.2. Preparar NFe por CST, Chave de Acesso e Aliq"
   ]
  },
  {
   "cell_type": "code",
   "execution_count": 29,
   "metadata": {},
   "outputs": [],
   "source": [
    "# Preparar NFe por ChaveAcesso/CFOP/CST/ALIQ \n",
    "nfe_cst = nfe_entrada[['ChaveAcesso', 'CST',  'ALIQ', 'VLR.LIQ.ITEM', 'BC.ICMS.ITEM','ICMS.ITEM']]\n",
    "\n",
    "# Completar com 0 nos campos vazios (ALIQ, ICMS.ITEM, BC.ICMS.ITEM, DESCON.ITEM)\n",
    "nfe_cst.fillna(0, inplace=True)\n",
    "\n",
    "# Agrupar por CHV_NFE, CFOP, CST, ALIQ\n",
    "nfe_cst = nfe_cst.groupby(['ChaveAcesso', 'CST', 'ALIQ'], as_index=False)[['VLR.LIQ.ITEM', 'BC.ICMS.ITEM','ICMS.ITEM']].sum()\n",
    "\n",
    "# Alterar nome de colunas para padronizar \n",
    "nfe_cst.columns = ['CHV_NFE', 'CST_ICMS', 'ALIQ_ICMS', 'VL_OPR_NFE', 'VL_BC_ICMS_NFE', 'VL_ICMS_NFE']\n",
    "\n",
    "# Tratando dados\n",
    "nfe_cst['CST_ICMS'] = nfe_cst['CST_ICMS'].astype(int).astype(str)\n",
    "nfe_cst['CHV_NFE'] = nfe_cst['CHV_NFE'].astype(str)\n",
    "\n",
    "# Filtrando pelas NF-es que foram escrituradas (Ver próximo comentário para entender essa decisão)\n",
    "nfe_cst = nfe_cst[nfe_cst['CHV_NFE'].isin(C190_mod['CHV_NFE'])]"
   ]
  },
  {
   "cell_type": "markdown",
   "metadata": {},
   "source": [
    "<i>Explicação do filtro por NF-e escriturada:\n",
    "\n",
    "Existem 3 possibilidades de encontrar linhas da tabela nfe_cst sem correspondente C190:\n",
    "- Alíquota escriturada de forma incorreta (ex.: 17% no C190 e 12% na NFe)\n",
    "- CST escriturado de forma incorreta (ex: CST 40 - isento - no C190 e CST 00 - tributado - na NFe)\n",
    "- Chave de acesso inexistente (ex.: nota fiscal não escriturada OU nota fiscal escriturada extemporaneamente)\n",
    "\n",
    "Como o objetivo desse cruzamento é verificar se o C190 está com aproveitamento de crédito adequado, e considerando que a não escrituração já gerou inconsistências no cruzamento de escrituração (item 5.1), decidiu-se por filtrar as NF-es apenas pelas escrituradas. \n",
    "\n",
    "Assim, o resultado será limitado aos dois primeiros pontos (alíquota ou CST inconsistentes, ou nota fiscal extemporânea)"
   ]
  },
  {
   "cell_type": "markdown",
   "metadata": {},
   "source": [
    "##### 5.3.2.4. Tratar equivalência de CST\n",
    "\n",
    "Conforme tabela CST, alguns CST são equivalentes:\n",
    "\n",
    "- CST 10 - Tributada e com cobrança do ICMS por ST (na nota) \n",
    "\n",
    "Equivale a:\n",
    "\n",
    "- CST 60 - ICMS cobrado anteriormente por ST (na escrituração do C190)"
   ]
  },
  {
   "cell_type": "code",
   "execution_count": 38,
   "metadata": {},
   "outputs": [],
   "source": [
    "nfe_cst.loc[nfe_cst[nfe_cst['CST_ICMS']=='10'].index, 'CST_ICMS'] = '60'\n",
    "nfe_cst.loc[nfe_cst[nfe_cst['CST_ICMS']=='60'].index, 'ALIQ_ICMS'] = 0.0 # Se for ST, considerar alíquota de nota igual a 0\n",
    "\n",
    "\n",
    "# Agrupar novamente por CHV_NFE, CFOP, CST, ALIQ\n",
    "nfe_cst = nfe_cst.groupby(['CHV_NFE', 'CST_ICMS', 'ALIQ_ICMS'], as_index=False)[['VL_OPR_NFE', 'VL_BC_ICMS_NFE', 'VL_ICMS_NFE']].sum()\n"
   ]
  },
  {
   "cell_type": "markdown",
   "metadata": {},
   "source": [
    "##### 5.3.2.3. Verificação sintética de créditos de ICMS"
   ]
  },
  {
   "cell_type": "code",
   "execution_count": null,
   "metadata": {},
   "outputs": [],
   "source": [
    "# Unir C190 com NFe por CHV_NFE, CST e ALIQ\n",
    "inconsistencias_c190 = C190_mod.merge(nfe_cst, on=['CHV_NFE', 'CST_ICMS', 'ALIQ_ICMS'], how='outer', indicator=True, validate='one_to_one')\n",
    "\n",
    "# Filtrar por inconsistencias (linha do C190 que não tenha linha NFe e vice-versa)\n",
    "inconsistencias_c190 = inconsistencias_c190[inconsistencias_c190['_merge']!='both']\n",
    "\n",
    "# Relatar\n",
    "if not inconsistencias_c190.empty and inconsistencias_c190['VL_ICMS_C190'].fillna(0).sum() >= valor_minimo_significancia:\n",
    "    resultado = f'Foi encontrado indício de irregularidade de aproveitamento de crédito - Por Nota/CST - Quantidade: {len(inconsistencias_c190)}'\n",
    "    relatorio.append([resultado])\n",
    "    print(resultado)\n",
    "else:\n",
    "    print('Não foi encontrada nenhuma discrepância significativa.')"
   ]
  },
  {
   "cell_type": "markdown",
   "metadata": {},
   "source": [
    "#### 5.3.3. Verificação de creditamento de ICMS - Transporte de CT-es que não dão direito ao crédito"
   ]
  },
  {
   "cell_type": "code",
   "execution_count": null,
   "metadata": {},
   "outputs": [],
   "source": [
    "raise NotImplementedError(\"Ainda não estipulado view para obter isso\")"
   ]
  },
  {
   "cell_type": "markdown",
   "metadata": {},
   "source": [
    "#### 5.3.4. Verificação do valor recolhido a título de Antecipação Parcial com valor escriturado em Outros Créditos\n",
    "\n",
    "\n",
    "Para verificar os valores de ajuste a crédito, somam-se:\n",
    "- Valores pagos a título de Antecipação Parcial \n",
    "- Valores a título de crédito presumido \n",
    "- Valores de Crédito de Ativo Imobilizado \n"
   ]
  },
  {
   "cell_type": "code",
   "execution_count": null,
   "metadata": {},
   "outputs": [],
   "source": [
    "# Obtendo valores pagos a título de antecipação parcial\n",
    "antecip_parcial = debitos.BuscarDebitosAntecipacaoParcialPagos(cgf=cgf, data_inicio=data_inicio, data_fim=data_fim)"
   ]
  },
  {
   "cell_type": "code",
   "execution_count": null,
   "metadata": {},
   "outputs": [],
   "source": [
    "antecip_parcial"
   ]
  },
  {
   "cell_type": "code",
   "execution_count": null,
   "metadata": {},
   "outputs": [],
   "source": [
    "E110 = pd.DataFrame() \n",
    "\n",
    "for mes_ref in dados_efd.keys():\n",
    "    E110 = pd.concat([E110, pd.DataFrame(dados_efd[mes_ref].RetornarCampo('E110'))])\n",
    "E110"
   ]
  },
  {
   "cell_type": "code",
   "execution_count": null,
   "metadata": {},
   "outputs": [],
   "source": []
  },
  {
   "cell_type": "code",
   "execution_count": null,
   "metadata": {},
   "outputs": [],
   "source": [
    "C197 = pd.DataFrame() \n",
    "\n",
    "for mes_ref in dados_efd.keys():\n",
    "    C197 = pd.concat([C197, pd.DataFrame(dados_efd[mes_ref].RetornarCampo('C197'))])\n",
    "C197"
   ]
  },
  {
   "cell_type": "code",
   "execution_count": null,
   "metadata": {},
   "outputs": [],
   "source": [
    "E111 = pd.DataFrame() \n",
    "\n",
    "for mes_ref in dados_efd.keys():\n",
    "    E111 = pd.concat([E111, pd.DataFrame(dados_efd[mes_ref].RetornarCampo('E111'))])\n",
    "E111"
   ]
  },
  {
   "cell_type": "code",
   "execution_count": null,
   "metadata": {},
   "outputs": [],
   "source": [
    "# Filtrar por notas de remessa por remetentes do Simples Nacional\n",
    "nfe_entrada_sn = nfe_entrada[nfe_entrada['REGIME']=='SIMPLES']\n",
    "nfe_entrada_sn"
   ]
  },
  {
   "cell_type": "code",
   "execution_count": null,
   "metadata": {},
   "outputs": [],
   "source": [
    "nfe_entrada_sn[['ALIQ', 'ICMS.ITEM', 'ICMS.DESON.ITEM']]"
   ]
  },
  {
   "cell_type": "code",
   "execution_count": null,
   "metadata": {},
   "outputs": [],
   "source": [
    "nfe_entrada_sn.columns"
   ]
  },
  {
   "cell_type": "code",
   "execution_count": null,
   "metadata": {},
   "outputs": [],
   "source": [
    "# Primeira parte - Obtendo documentos de entrada não escriturados\n",
    "E110 = pd.DataFrame() \n",
    "\n",
    "for mes_ref in dados_efd.keys():\n",
    "    E110 = pd.concat([E110, pd.DataFrame(dados_efd[mes_ref].RetornarCampo('E110'))])\n",
    "E110"
   ]
  },
  {
   "cell_type": "code",
   "execution_count": 11,
   "metadata": {},
   "outputs": [],
   "source": []
  }
 ],
 "metadata": {
  "kernelspec": {
   "display_name": ".venv",
   "language": "python",
   "name": "python3"
  },
  "language_info": {
   "codemirror_mode": {
    "name": "ipython",
    "version": 3
   },
   "file_extension": ".py",
   "mimetype": "text/x-python",
   "name": "python",
   "nbconvert_exporter": "python",
   "pygments_lexer": "ipython3",
   "version": "3.10.5"
  }
 },
 "nbformat": 4,
 "nbformat_minor": 2
}
